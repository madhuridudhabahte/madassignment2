{
 "cells": [
  {
   "cell_type": "code",
   "execution_count": null,
   "metadata": {},
   "outputs": [],
   "source": [
    "Assignment 2"
   ]
  },
  {
   "cell_type": "raw",
   "metadata": {},
   "source": [
    "Que[1] What are the two values of the Boolean data type? How do you write them?\n",
    "\n",
    "Ans: the two boolean data types are True or False.\n",
    "     Generally it is used to represent the truth values of the expressions.\n",
    "     For example, 2>1 is True \n",
    "     whereas, 2<1 is False.\n"
   ]
  },
  {
   "cell_type": "raw",
   "metadata": {},
   "source": [
    "Que[2] What are the three different types of Boolean operators?\n",
    "\n",
    "Ans: There are three logical operators that are used to compare values.\n",
    "    These operators are AND, OR and NOT\n",
    "    "
   ]
  },
  {
   "cell_type": "raw",
   "metadata": {},
   "source": [
    "Que[3] Make a list of each Boolean operator's truth tables \n",
    "(i.e. every possible combination of Boolean values for the operator and what it evaluate ).\n",
    "\n",
    "Ans: For two inputs we get 4 combinations. \n",
    "\n",
    "For AND : the output Q is true if BOTH input A “AND” input B are both true, \n",
    "    giving the Boolean Expression of: ( Q = A and B ).\n",
    "    \n",
    "A\tB\tQ\n",
    "\n",
    "F\tF\tF\n",
    "F\tT\tF\n",
    "T\tF\tF\n",
    "T\tT\tT\n",
    "    \n",
    "    \n",
    "    \n",
    "For OR : the output Q is true if EITHER input A “OR” input B is true,\n",
    "    giving the Boolean Expression of: ( Q = A or B ).\n",
    "    \n",
    "A\tB\tQ\n",
    "\n",
    "F\tF\tF\n",
    "F\tT\tT\n",
    "T\tF\tT\n",
    "T\tT\tT\n",
    "        \n",
    "For NOT : the output Q is ONLY true when the input is “NOT” true,the output is the inverse or complement of the\n",
    "    input giving the Boolean Expression of: ( Q = NOT A ).\n",
    "    \n",
    "A\tQ\n",
    "F\tT\n",
    "T\tF\n",
    "\n",
    "    Boolean Expression( Q = NOT A )\t\n",
    "        "
   ]
  },
  {
   "cell_type": "raw",
   "metadata": {},
   "source": [
    "Que [4] What are the values of the following expressions?\n",
    "(5 > 4) and (3 == 5)\n",
    "not (5 > 4)\n",
    "(5 > 4) or (3 == 5)\n",
    "not ((5 > 4) or (3 == 5))\n",
    "(True and True) and (True == False)\n",
    "(not False) or (not True)\n",
    "\n",
    "Ans :\n",
    "(5 > 4) and (3 == 5): statement is False\n",
    "not (5 > 4)         : statement is false\n",
    "(5 > 4) or (3 == 5) : statement is True\n",
    "not ((5 > 4) or (3 == 5)) : statement is False\n",
    "(True and True) and (True == False) : statement is False\n",
    "(not False) or (not True) : statement is True\n",
    "\n"
   ]
  },
  {
   "cell_type": "raw",
   "metadata": {},
   "source": [
    "Que [5] What are the six comparison operators?\n",
    "\n",
    "Ans :\n",
    "    less than ( < ), less than or equal to ( <= ), greater than ( > ), greater than or equal to ( >= ), \n",
    "    equal to ( == ), and not equal to ( != )."
   ]
  },
  {
   "cell_type": "raw",
   "metadata": {},
   "source": [
    "Que [6] How do you tell the difference between the equal to and assignment operators?Describe a condition\n",
    "and when you would use one.\n",
    "\n",
    "Ans : a single equal mark is used to assign a value to a variable, whereas two consecutive equal marks is\n",
    "      used to check whether 2 expressions give the same value .\n",
    "\n",
    "= is an assignment operator\n",
    "\n",
    "== is an equality operator\n",
    "\n",
    "x=10\n",
    "y=15\n",
    "z=15\n",
    "\n",
    "(x==y) is False because we assigned different values to x and y.\n",
    "\n",
    "(y==z) is True because we assign equal values to y and z.\n"
   ]
  },
  {
   "cell_type": "raw",
   "metadata": {},
   "source": [
    "Que [7]Identify the three blocks in this code:\n",
    "spam = 0\n",
    "if spam == 10:\n",
    "print('eggs')\n",
    "if spam > 5:\n",
    "print('bacon')\n",
    "else:\n",
    "print('ham')\n",
    "print('spam')\n",
    "print('spam')\n",
    "\n",
    "Ans : spam = 0\n",
    "if spam == 10:\n",
    "    print('eggs')        # indent increased, block A\n",
    "    if spam > 5:         # still block A\n",
    "        print('bacon')   # still block A, indent increased, block B inside block A\n",
    "    else:                # still block A, indent decreased, block B ended in line above\n",
    "        print('ham')     # still block A, indent increased, block C inside block A\n",
    "    print('spam')        # still block A, indent decreased, block C ended in line above\n",
    "print('spam')            # indent decreased, block A ended in line above"
   ]
  },
  {
   "cell_type": "raw",
   "metadata": {},
   "source": [
    "Que [8] Write code that prints Hello if 1 is stored in spam, prints Howdy if 2 is stored in spam, and \n",
    "prints Greetings! if anything else is stored in spam."
   ]
  },
  {
   "cell_type": "code",
   "execution_count": null,
   "metadata": {},
   "outputs": [],
   "source": [
    "spam = input()\n",
    "if spam == '1':\n",
    "\tprint('Hello')\n",
    "elif spam == '2':\n",
    "\tprint('Howdy')\n",
    "else:\n",
    "\tprint('Greetings')"
   ]
  },
  {
   "cell_type": "code",
   "execution_count": null,
   "metadata": {},
   "outputs": [],
   "source": [
    "Que [9] If your programme is stuck in an endless loop, what keys you’ll press?\n",
    "\n",
    "Ans: An infinite loop is a loop that runs indefinitely and it only stops with external intervention or \n",
    "     when a break statement is found.\n",
    "     You can stop an infinite loop with CTRL + C"
   ]
  },
  {
   "cell_type": "code",
   "execution_count": null,
   "metadata": {},
   "outputs": [],
   "source": [
    "Que[10] How can you tell the difference between break and continue?\n",
    "\n",
    "Ans : Break: The 'break 'stop the continuation of the loop.\n",
    "    \n",
    "      Continue: The 'continue' does not stop the continuation of loop and it stops the current."
   ]
  },
  {
   "cell_type": "raw",
   "metadata": {},
   "source": [
    "Que [11] In a for loop, what is the difference between range(10), range(0, 10), and range(0, 10, 1)?\n",
    "\n",
    "Ans : range(10) = defines range upto 10\n",
    "      range(0, 10) = defines the range as between 0 and 10.\n",
    "      range(0, 10, 1) defines the range as between 0 and 10 with steps or jump of 1."
   ]
  },
  {
   "cell_type": "code",
   "execution_count": null,
   "metadata": {},
   "outputs": [],
   "source": [
    "Que [12] Write a short program that prints the numbers 1 to 10 using a for loop. \n",
    "Then write an equivalent program that prints the numbers 1 to 10 using a while loop."
   ]
  },
  {
   "cell_type": "code",
   "execution_count": 1,
   "metadata": {},
   "outputs": [
    {
     "name": "stdout",
     "output_type": "stream",
     "text": [
      "1\n",
      "2\n",
      "3\n",
      "4\n",
      "5\n",
      "6\n",
      "7\n",
      "8\n",
      "9\n",
      "10\n"
     ]
    }
   ],
   "source": [
    "for i in range(1, 11):\n",
    "    print(i)"
   ]
  },
  {
   "cell_type": "code",
   "execution_count": 2,
   "metadata": {},
   "outputs": [
    {
     "name": "stdout",
     "output_type": "stream",
     "text": [
      "1\n",
      "2\n",
      "3\n",
      "4\n",
      "5\n",
      "6\n",
      "7\n",
      "8\n",
      "9\n",
      "10\n"
     ]
    }
   ],
   "source": [
    "i = 1\n",
    "while(i<=10):\n",
    "    print(i)\n",
    "    i += 1"
   ]
  },
  {
   "cell_type": "code",
   "execution_count": null,
   "metadata": {},
   "outputs": [],
   "source": [
    "Que [13] If you had a function named bacon() inside a module named spam, how would you call it after importing spam?\n",
    "\n",
    "Ans: \n",
    "    \n",
    "import spam\n",
    "spam.bacon()"
   ]
  }
 ],
 "metadata": {
  "kernelspec": {
   "display_name": "Python 3",
   "language": "python",
   "name": "python3"
  },
  "language_info": {
   "codemirror_mode": {
    "name": "ipython",
    "version": 3
   },
   "file_extension": ".py",
   "mimetype": "text/x-python",
   "name": "python",
   "nbconvert_exporter": "python",
   "pygments_lexer": "ipython3",
   "version": "3.7.1"
  }
 },
 "nbformat": 4,
 "nbformat_minor": 2
}
